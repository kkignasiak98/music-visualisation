{
 "cells": [
  {
   "cell_type": "code",
   "execution_count": 5,
   "metadata": {},
   "outputs": [],
   "source": [
    "import pandas as pd\n",
    "import re"
   ]
  },
  {
   "cell_type": "code",
   "execution_count": 6,
   "metadata": {},
   "outputs": [],
   "source": [
    "data = pd.read_csv(r\"data/top10s.csv\", sep=',',encoding='cp1252')"
   ]
  },
  {
   "cell_type": "code",
   "execution_count": 7,
   "metadata": {},
   "outputs": [],
   "source": [
    "replacement_dictionary = {\n",
    "      \"barbadian pop\": \"pop\",\n",
    "      \"canadian pop\": \"pop\",\n",
    "      r\"[a-zA-Z]+ hip hop\": \"hip hop\",\n",
    "      \"colombian pop\": \"pop\",\n",
    "      \"australian dance\": \"dance\",\n",
    "      \"dance pop\": \"dance\",\n",
    "      \"australian pop\": \"pop\",\n",
    "      \"danish pop\": \"pop\",\n",
    "      \"moroccan pop\": \"pop\",\n",
    "      r\"[a-zA-Z]+ rap\": \"hip hop\",\n",
    "      \"tropical house\": \"house\",\n",
    "      \"electro house\": \"house\",\n",
    "      r\"[a-zA-Z]+ edm\": \"edm\",\n",
    "      \"electro\": \"electronic\",\n",
    "      \"electronicpop\": \"eletronic\",\n",
    "      \"contemporary country\": \"acoustic pop\",\n",
    "      \"alternative r&b\": \"r&b\",\n",
    "      r\"[a-zA-Z]+ latin\": \"latin\",\n",
    "      r\"[a-zA-Z]+ indie\": \"indie\",\n",
    "      \"indie pop\" : \"pop\",\n",
    "      \"hip pop\": \"pop\",\n",
    "      \"candy pop\": \"pop\",\n",
    "      r\"[a-zA-Z]+ [a-zA-Z]+ r&b\" :\"r&b\",\n",
    "      \"irish singer-songwriter\": \"pop\",\n",
    "      \"brostep\": \"dubstep\",\n",
    "      r\"[a-zA-Z]+ trap\": \"trap\"\n",
    "\n",
    "}"
   ]
  },
  {
   "cell_type": "code",
   "execution_count": 8,
   "metadata": {},
   "outputs": [],
   "source": [
    "for pattern, replacement in replacement_dictionary.items():\n",
    "    data.replace(pattern, replacement, regex= True, inplace= True)"
   ]
  },
  {
   "cell_type": "code",
   "execution_count": 40,
   "metadata": {},
   "outputs": [],
   "source": [
    "data.to_excel(\"music_to_show.xlsx\")"
   ]
  }
 ],
 "metadata": {
  "kernelspec": {
   "display_name": "Python 3.8.5 32-bit",
   "metadata": {
    "interpreter": {
     "hash": "62b4da82ab8eed337ff08ff647fa9458abd70eb477e91c298b2b408b176a3f70"
    }
   },
   "name": "python3"
  },
  "language_info": {
   "codemirror_mode": {
    "name": "ipython",
    "version": 3
   },
   "file_extension": ".py",
   "mimetype": "text/x-python",
   "name": "python",
   "nbconvert_exporter": "python",
   "pygments_lexer": "ipython3",
   "version": "3.10.13"
  },
  "orig_nbformat": 2
 },
 "nbformat": 4,
 "nbformat_minor": 2
}
